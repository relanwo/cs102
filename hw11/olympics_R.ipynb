{
  "cells": [
    {
      "metadata": {
        "trusted": true
      },
      "cell_type": "code",
      "source": "df <- read.csv('athlete_events.xls')",
      "execution_count": 1,
      "outputs": []
    },
    {
      "metadata": {
        "trusted": true
      },
      "cell_type": "code",
      "source": "head(df)",
      "execution_count": 4,
      "outputs": [
        {
          "output_type": "display_data",
          "data": {
            "text/plain": "  ID Name                     Sex Age Height Weight Team           NOC\n1 1  A Dijiang                M   24  180    80     China          CHN\n2 2  A Lamusi                 M   23  170    60     China          CHN\n3 3  Gunnar Nielsen Aaby      M   24   NA    NA     Denmark        DEN\n4 4  Edgar Lindenau Aabye     M   34   NA    NA     Denmark/Sweden DEN\n5 5  Christine Jacoba Aaftink F   21  185    82     Netherlands    NED\n6 5  Christine Jacoba Aaftink F   21  185    82     Netherlands    NED\n  Games       Year Season City      Sport        \n1 1992 Summer 1992 Summer Barcelona Basketball   \n2 2012 Summer 2012 Summer London    Judo         \n3 1920 Summer 1920 Summer Antwerpen Football     \n4 1900 Summer 1900 Summer Paris     Tug-Of-War   \n5 1988 Winter 1988 Winter Calgary   Speed Skating\n6 1988 Winter 1988 Winter Calgary   Speed Skating\n  Event                              Medal\n1 Basketball Men's Basketball        NA   \n2 Judo Men's Extra-Lightweight       NA   \n3 Football Men's Football            NA   \n4 Tug-Of-War Men's Tug-Of-War        Gold \n5 Speed Skating Women's 500 metres   NA   \n6 Speed Skating Women's 1,000 metres NA   ",
            "text/latex": "A data.frame: 6 x 15\n\\begin{tabular}{r|lllllllllllllll}\n ID & Name & Sex & Age & Height & Weight & Team & NOC & Games & Year & Season & City & Sport & Event & Medal\\\\\n <int> & <fct> & <fct> & <int> & <int> & <dbl> & <fct> & <fct> & <fct> & <int> & <fct> & <fct> & <fct> & <fct> & <fct>\\\\\n\\hline\n\t 1 & A Dijiang                & M & 24 & 180 & 80 & China          & CHN & 1992 Summer & 1992 & Summer & Barcelona & Basketball    & Basketball Men's Basketball        & NA  \\\\\n\t 2 & A Lamusi                 & M & 23 & 170 & 60 & China          & CHN & 2012 Summer & 2012 & Summer & London    & Judo          & Judo Men's Extra-Lightweight       & NA  \\\\\n\t 3 & Gunnar Nielsen Aaby      & M & 24 &  NA & NA & Denmark        & DEN & 1920 Summer & 1920 & Summer & Antwerpen & Football      & Football Men's Football            & NA  \\\\\n\t 4 & Edgar Lindenau Aabye     & M & 34 &  NA & NA & Denmark/Sweden & DEN & 1900 Summer & 1900 & Summer & Paris     & Tug-Of-War    & Tug-Of-War Men's Tug-Of-War        & Gold\\\\\n\t 5 & Christine Jacoba Aaftink & F & 21 & 185 & 82 & Netherlands    & NED & 1988 Winter & 1988 & Winter & Calgary   & Speed Skating & Speed Skating Women's 500 metres   & NA  \\\\\n\t 5 & Christine Jacoba Aaftink & F & 21 & 185 & 82 & Netherlands    & NED & 1988 Winter & 1988 & Winter & Calgary   & Speed Skating & Speed Skating Women's 1,000 metres & NA  \\\\\n\\end{tabular}\n",
            "text/markdown": "\nA data.frame: 6 x 15\n\n| ID &lt;int&gt; | Name &lt;fct&gt; | Sex &lt;fct&gt; | Age &lt;int&gt; | Height &lt;int&gt; | Weight &lt;dbl&gt; | Team &lt;fct&gt; | NOC &lt;fct&gt; | Games &lt;fct&gt; | Year &lt;int&gt; | Season &lt;fct&gt; | City &lt;fct&gt; | Sport &lt;fct&gt; | Event &lt;fct&gt; | Medal &lt;fct&gt; |\n|---|---|---|---|---|---|---|---|---|---|---|---|---|---|---|\n| 1 | A Dijiang                | M | 24 | 180 | 80 | China          | CHN | 1992 Summer | 1992 | Summer | Barcelona | Basketball    | Basketball Men's Basketball        | NA   |\n| 2 | A Lamusi                 | M | 23 | 170 | 60 | China          | CHN | 2012 Summer | 2012 | Summer | London    | Judo          | Judo Men's Extra-Lightweight       | NA   |\n| 3 | Gunnar Nielsen Aaby      | M | 24 |  NA | NA | Denmark        | DEN | 1920 Summer | 1920 | Summer | Antwerpen | Football      | Football Men's Football            | NA   |\n| 4 | Edgar Lindenau Aabye     | M | 34 |  NA | NA | Denmark/Sweden | DEN | 1900 Summer | 1900 | Summer | Paris     | Tug-Of-War    | Tug-Of-War Men's Tug-Of-War        | Gold |\n| 5 | Christine Jacoba Aaftink | F | 21 | 185 | 82 | Netherlands    | NED | 1988 Winter | 1988 | Winter | Calgary   | Speed Skating | Speed Skating Women's 500 metres   | NA   |\n| 5 | Christine Jacoba Aaftink | F | 21 | 185 | 82 | Netherlands    | NED | 1988 Winter | 1988 | Winter | Calgary   | Speed Skating | Speed Skating Women's 1,000 metres | NA   |\n\n",
            "text/html": "<table>\n<caption>A data.frame: 6 x 15</caption>\n<thead>\n\t<tr><th scope=col>ID</th><th scope=col>Name</th><th scope=col>Sex</th><th scope=col>Age</th><th scope=col>Height</th><th scope=col>Weight</th><th scope=col>Team</th><th scope=col>NOC</th><th scope=col>Games</th><th scope=col>Year</th><th scope=col>Season</th><th scope=col>City</th><th scope=col>Sport</th><th scope=col>Event</th><th scope=col>Medal</th></tr>\n\t<tr><th scope=col>&lt;int&gt;</th><th scope=col>&lt;fct&gt;</th><th scope=col>&lt;fct&gt;</th><th scope=col>&lt;int&gt;</th><th scope=col>&lt;int&gt;</th><th scope=col>&lt;dbl&gt;</th><th scope=col>&lt;fct&gt;</th><th scope=col>&lt;fct&gt;</th><th scope=col>&lt;fct&gt;</th><th scope=col>&lt;int&gt;</th><th scope=col>&lt;fct&gt;</th><th scope=col>&lt;fct&gt;</th><th scope=col>&lt;fct&gt;</th><th scope=col>&lt;fct&gt;</th><th scope=col>&lt;fct&gt;</th></tr>\n</thead>\n<tbody>\n\t<tr><td>1</td><td>A Dijiang               </td><td>M</td><td>24</td><td>180</td><td>80</td><td>China         </td><td>CHN</td><td>1992 Summer</td><td>1992</td><td>Summer</td><td>Barcelona</td><td>Basketball   </td><td>Basketball Men's Basketball       </td><td>NA  </td></tr>\n\t<tr><td>2</td><td>A Lamusi                </td><td>M</td><td>23</td><td>170</td><td>60</td><td>China         </td><td>CHN</td><td>2012 Summer</td><td>2012</td><td>Summer</td><td>London   </td><td>Judo         </td><td>Judo Men's Extra-Lightweight      </td><td>NA  </td></tr>\n\t<tr><td>3</td><td>Gunnar Nielsen Aaby     </td><td>M</td><td>24</td><td> NA</td><td>NA</td><td>Denmark       </td><td>DEN</td><td>1920 Summer</td><td>1920</td><td>Summer</td><td>Antwerpen</td><td>Football     </td><td>Football Men's Football           </td><td>NA  </td></tr>\n\t<tr><td>4</td><td>Edgar Lindenau Aabye    </td><td>M</td><td>34</td><td> NA</td><td>NA</td><td>Denmark/Sweden</td><td>DEN</td><td>1900 Summer</td><td>1900</td><td>Summer</td><td>Paris    </td><td>Tug-Of-War   </td><td>Tug-Of-War Men's Tug-Of-War       </td><td>Gold</td></tr>\n\t<tr><td>5</td><td>Christine Jacoba Aaftink</td><td>F</td><td>21</td><td>185</td><td>82</td><td>Netherlands   </td><td>NED</td><td>1988 Winter</td><td>1988</td><td>Winter</td><td>Calgary  </td><td>Speed Skating</td><td>Speed Skating Women's 500 metres  </td><td>NA  </td></tr>\n\t<tr><td>5</td><td>Christine Jacoba Aaftink</td><td>F</td><td>21</td><td>185</td><td>82</td><td>Netherlands   </td><td>NED</td><td>1988 Winter</td><td>1988</td><td>Winter</td><td>Calgary  </td><td>Speed Skating</td><td>Speed Skating Women's 1,000 metres</td><td>NA  </td></tr>\n</tbody>\n</table>\n"
          },
          "metadata": {}
        }
      ]
    },
    {
      "metadata": {},
      "cell_type": "markdown",
      "source": "How old were the youngest male and female participants of the 1996 Olympics?"
    },
    {
      "metadata": {
        "trusted": true
      },
      "cell_type": "code",
      "source": "min(df[df$Year == 1996 & df$Sex == 'F',]['Age'], na.rm = TRUE) #female - 12 y.o",
      "execution_count": 26,
      "outputs": [
        {
          "output_type": "display_data",
          "data": {
            "text/plain": "[1] 12",
            "text/latex": "12",
            "text/markdown": "12",
            "text/html": "12"
          },
          "metadata": {}
        }
      ]
    },
    {
      "metadata": {
        "trusted": true
      },
      "cell_type": "code",
      "source": "min(df[df$Year == 1996 & df$Sex == 'M',]['Age'], na.rm = TRUE) #male - 14 y.o",
      "execution_count": 28,
      "outputs": [
        {
          "output_type": "display_data",
          "data": {
            "text/plain": "[1] 14",
            "text/latex": "14",
            "text/markdown": "14",
            "text/html": "14"
          },
          "metadata": {}
        }
      ]
    },
    {
      "metadata": {},
      "cell_type": "markdown",
      "source": "What was the percentage of male gymnasts among all the male participants of the 2000 Olympics? Round the answer to the first decimal?"
    },
    {
      "metadata": {
        "trusted": true
      },
      "cell_type": "code",
      "source": "table <- df[df$Year == 2000 & df$Sex == 'M',]\ntable_1 <- df[df$Year == 2000 & df$Sex == 'M' & df$Sport == 'Gymnastics',]\nround(nrow(unique(table_1['Name']))/nrow(unique(table['Name'])), digits = 3) * 100 ",
      "execution_count": 51,
      "outputs": [
        {
          "output_type": "display_data",
          "data": {
            "text/plain": "[1] 1.5",
            "text/latex": "1.5",
            "text/markdown": "1.5",
            "text/html": "1.5"
          },
          "metadata": {}
        }
      ]
    },
    {
      "metadata": {},
      "cell_type": "markdown",
      "source": "What are the mean and standard deviation of height for female basketball players participated in the 2000 Olympics? Round the answer to the first decimal?"
    },
    {
      "metadata": {
        "trusted": true
      },
      "cell_type": "code",
      "source": "height <- df[df$Year == 2000 & df$Sex == 'F' & df$Sport == 'Basketball',]\nround(mean(height$Height), digits = 1) #mean height",
      "execution_count": 62,
      "outputs": [
        {
          "output_type": "display_data",
          "data": {
            "text/plain": "[1] 182.4",
            "text/latex": "182.4",
            "text/markdown": "182.4",
            "text/html": "182.4"
          },
          "metadata": {}
        }
      ]
    },
    {
      "metadata": {
        "trusted": true
      },
      "cell_type": "code",
      "source": "round(sd(height$Height), digits=1) # standard deviation",
      "execution_count": 61,
      "outputs": [
        {
          "output_type": "display_data",
          "data": {
            "text/plain": "[1] 9.1",
            "text/latex": "9.1",
            "text/markdown": "9.1",
            "text/html": "9.1"
          },
          "metadata": {}
        }
      ]
    },
    {
      "metadata": {},
      "cell_type": "markdown",
      "source": "Find a sportsperson participated in the 2002 Olympics, with the highest weight among other participants of the same Olympics. What sport did he or she do?"
    },
    {
      "metadata": {
        "trusted": true
      },
      "cell_type": "code",
      "source": "df[df$Year == 2002 & !is.na(df$Weight) & df$Weight == max(df[df$Year == 2002,]['Weight'], na.rm =TRUE),]['Sport']",
      "execution_count": 72,
      "outputs": [
        {
          "output_type": "display_data",
          "data": {
            "text/plain": "      Sport    \n99155 Bobsleigh",
            "text/latex": "A data.frame: 1 x 1\n\\begin{tabular}{r|l}\n  & Sport\\\\\n  & <fct>\\\\\n\\hline\n\t99155 & Bobsleigh\\\\\n\\end{tabular}\n",
            "text/markdown": "\nA data.frame: 1 x 1\n\n| <!--/--> | Sport &lt;fct&gt; |\n|---|---|\n| 99155 | Bobsleigh |\n\n",
            "text/html": "<table>\n<caption>A data.frame: 1 x 1</caption>\n<thead>\n\t<tr><th></th><th scope=col>Sport</th></tr>\n\t<tr><th></th><th scope=col>&lt;fct&gt;</th></tr>\n</thead>\n<tbody>\n\t<tr><th scope=row>99155</th><td>Bobsleigh</td></tr>\n</tbody>\n</table>\n"
          },
          "metadata": {}
        }
      ]
    },
    {
      "metadata": {},
      "cell_type": "markdown",
      "source": "How many times did Pawe Abratkiewicz participate in the Olympics held in different years?"
    },
    {
      "metadata": {
        "trusted": true
      },
      "cell_type": "code",
      "source": "nrow(unique(df[df$Name == 'Pawe Abratkiewicz',]['Year']))",
      "execution_count": 76,
      "outputs": [
        {
          "output_type": "display_data",
          "data": {
            "text/plain": "[1] 3",
            "text/latex": "3",
            "text/markdown": "3",
            "text/html": "3"
          },
          "metadata": {}
        }
      ]
    },
    {
      "metadata": {},
      "cell_type": "markdown",
      "source": " How many silver medals in tennis did Australia win at the 2000 Olympics?"
    },
    {
      "metadata": {
        "trusted": true
      },
      "cell_type": "code",
      "source": "nrow(df[df$Year == 2000 & df$Team == 'Australia' & df$Sport == 'Tennis' & !is.na(df$Medal) & df$Medal == 'Silver',])",
      "execution_count": 82,
      "outputs": [
        {
          "output_type": "display_data",
          "data": {
            "text/plain": "[1] 2",
            "text/latex": "2",
            "text/markdown": "2",
            "text/html": "2"
          },
          "metadata": {}
        }
      ]
    },
    {
      "metadata": {
        "trusted": true
      },
      "cell_type": "markdown",
      "source": "Is it true that Switzerland won fewer medals than Serbia at the 2016 Olympics? Do not consider NaN values in Medal column?"
    },
    {
      "metadata": {
        "trusted": true
      },
      "cell_type": "code",
      "source": "switzerland = nrow(df[df$Year == 2016 & df$Team == 'Switzerland' & !is.na(df$Medal),])\nserbia = nrow(df[df$Year == 2016 & df$Team == 'Serbia' & !is.na(df$Medal),])\nif (switzerland < serbia){\n    cat('Yes')\n} else {\n    cat('No') }\n",
      "execution_count": 85,
      "outputs": [
        {
          "output_type": "stream",
          "text": "Yes",
          "name": "stdout"
        }
      ]
    },
    {
      "metadata": {},
      "cell_type": "markdown",
      "source": "What is the absolute difference between the number of unique sports at the 1995 Olympics and 2016 Olympics?"
    },
    {
      "metadata": {
        "trusted": true
      },
      "cell_type": "code",
      "source": "s_1995 = df[df$Year == 1995,]\ns_2016 = df[df$Year == 2016,]\nabs(nrow(s_1995[!duplicated(s_1995$Sport),]) - nrow(s_2016[!duplicated(s_2016$Sport),]))",
      "execution_count": 100,
      "outputs": [
        {
          "output_type": "display_data",
          "data": {
            "text/plain": "[1] 34",
            "text/latex": "34",
            "text/markdown": "34",
            "text/html": "34"
          },
          "metadata": {}
        }
      ]
    },
    {
      "metadata": {},
      "cell_type": "markdown",
      "source": "Is it true that there were Summer Olympics held in Lake Placid? Is it true that there were Winter Olympics held in Sankt Moritz?"
    },
    {
      "metadata": {
        "trusted": true
      },
      "cell_type": "code",
      "source": "if (nrow(df[df$Season == 'Summer' & df$City == 'LakePlacid',]) > 0) {\n    cat('Yes ')\n} else {\n    cat('No ')\n}\nif (nrow(df[df$Season == 'Winter' & df$City == 'Sankt Moritz',]) > 0) {\n    cat('Yes ')\n} else {\n    cat('No ')\n}",
      "execution_count": 103,
      "outputs": [
        {
          "output_type": "stream",
          "text": "No Yes ",
          "name": "stdout"
        }
      ]
    },
    {
      "metadata": {
        "trusted": true
      },
      "cell_type": "markdown",
      "source": " What age category did the fewest and the most participants of the 2014 Olympics belong to?"
    },
    {
      "metadata": {
        "trusted": true
      },
      "cell_type": "code",
      "source": "age = df[df$Year == 2014,]\nage = age[!duplicated(age$ID),]\nage_45 <- nrow(age[age['Age'] >= 45 & age['Age'] <= 55,])\ncat('[45-55] = ', age_45)",
      "execution_count": 136,
      "outputs": [
        {
          "output_type": "stream",
          "text": "[45-55] =  5",
          "name": "stdout"
        }
      ]
    },
    {
      "metadata": {
        "trusted": true
      },
      "cell_type": "code",
      "source": "age_25 <- nrow(age[age['Age'] >= 25 & age['Age'] < 35,])\ncat('[25-35] = ', age_25)",
      "execution_count": 137,
      "outputs": [
        {
          "output_type": "stream",
          "text": "[25-35] =  1397",
          "name": "stdout"
        }
      ]
    },
    {
      "metadata": {
        "trusted": true
      },
      "cell_type": "code",
      "source": "age35 <-  nrow(age[age['Age'] >= 35 & age['Age'] < 45,])\ncat('[35-45] = ', age35)",
      "execution_count": 139,
      "outputs": [
        {
          "output_type": "stream",
          "text": "[35-45] =  150",
          "name": "stdout"
        }
      ]
    },
    {
      "metadata": {
        "trusted": true
      },
      "cell_type": "code",
      "source": "age15 <- nrow(age[age['Age'] >= 15 & age['Age'] < 25,])\ncat('[15-25] = ', age15) #fewest - [45 - 55], most - [25 -35]",
      "execution_count": 141,
      "outputs": [
        {
          "output_type": "stream",
          "text": "[15-25] =  1193",
          "name": "stdout"
        }
      ]
    }
  ],
  "metadata": {
    "kernelspec": {
      "name": "r",
      "display_name": "R",
      "language": "R"
    },
    "language_info": {
      "mimetype": "text/x-r-source",
      "name": "R",
      "pygments_lexer": "r",
      "version": "3.5.3",
      "file_extension": ".r",
      "codemirror_mode": "r"
    }
  },
  "nbformat": 4,
  "nbformat_minor": 2
}