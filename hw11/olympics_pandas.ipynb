{
  "cells": [
    {
      "metadata": {
        "trusted": true
      },
      "cell_type": "code",
      "source": "import pandas as pd\nimport numpy as np\nimport warnings\nwarnings.filterwarnings(\"ignore\")",
      "execution_count": 1,
      "outputs": []
    },
    {
      "metadata": {
        "trusted": true
      },
      "cell_type": "code",
      "source": "data = pd.read_csv('athlete_events.xls')",
      "execution_count": 2,
      "outputs": []
    },
    {
      "metadata": {
        "trusted": true
      },
      "cell_type": "code",
      "source": "data.head()",
      "execution_count": 3,
      "outputs": [
        {
          "output_type": "execute_result",
          "execution_count": 3,
          "data": {
            "text/plain": "   ID                      Name Sex   Age  Height  Weight            Team  \\\n0   1                 A Dijiang   M  24.0   180.0    80.0           China   \n1   2                  A Lamusi   M  23.0   170.0    60.0           China   \n2   3       Gunnar Nielsen Aaby   M  24.0     NaN     NaN         Denmark   \n3   4      Edgar Lindenau Aabye   M  34.0     NaN     NaN  Denmark/Sweden   \n4   5  Christine Jacoba Aaftink   F  21.0   185.0    82.0     Netherlands   \n\n   NOC        Games  Year  Season       City          Sport  \\\n0  CHN  1992 Summer  1992  Summer  Barcelona     Basketball   \n1  CHN  2012 Summer  2012  Summer     London           Judo   \n2  DEN  1920 Summer  1920  Summer  Antwerpen       Football   \n3  DEN  1900 Summer  1900  Summer      Paris     Tug-Of-War   \n4  NED  1988 Winter  1988  Winter    Calgary  Speed Skating   \n\n                              Event Medal  \n0       Basketball Men's Basketball   NaN  \n1      Judo Men's Extra-Lightweight   NaN  \n2           Football Men's Football   NaN  \n3       Tug-Of-War Men's Tug-Of-War  Gold  \n4  Speed Skating Women's 500 metres   NaN  ",
            "text/html": "<div>\n<table border=\"1\" class=\"dataframe\">\n  <thead>\n    <tr style=\"text-align: right;\">\n      <th></th>\n      <th>ID</th>\n      <th>Name</th>\n      <th>Sex</th>\n      <th>Age</th>\n      <th>Height</th>\n      <th>Weight</th>\n      <th>Team</th>\n      <th>NOC</th>\n      <th>Games</th>\n      <th>Year</th>\n      <th>Season</th>\n      <th>City</th>\n      <th>Sport</th>\n      <th>Event</th>\n      <th>Medal</th>\n    </tr>\n  </thead>\n  <tbody>\n    <tr>\n      <th>0</th>\n      <td>1</td>\n      <td>A Dijiang</td>\n      <td>M</td>\n      <td>24.0</td>\n      <td>180.0</td>\n      <td>80.0</td>\n      <td>China</td>\n      <td>CHN</td>\n      <td>1992 Summer</td>\n      <td>1992</td>\n      <td>Summer</td>\n      <td>Barcelona</td>\n      <td>Basketball</td>\n      <td>Basketball Men's Basketball</td>\n      <td>NaN</td>\n    </tr>\n    <tr>\n      <th>1</th>\n      <td>2</td>\n      <td>A Lamusi</td>\n      <td>M</td>\n      <td>23.0</td>\n      <td>170.0</td>\n      <td>60.0</td>\n      <td>China</td>\n      <td>CHN</td>\n      <td>2012 Summer</td>\n      <td>2012</td>\n      <td>Summer</td>\n      <td>London</td>\n      <td>Judo</td>\n      <td>Judo Men's Extra-Lightweight</td>\n      <td>NaN</td>\n    </tr>\n    <tr>\n      <th>2</th>\n      <td>3</td>\n      <td>Gunnar Nielsen Aaby</td>\n      <td>M</td>\n      <td>24.0</td>\n      <td>NaN</td>\n      <td>NaN</td>\n      <td>Denmark</td>\n      <td>DEN</td>\n      <td>1920 Summer</td>\n      <td>1920</td>\n      <td>Summer</td>\n      <td>Antwerpen</td>\n      <td>Football</td>\n      <td>Football Men's Football</td>\n      <td>NaN</td>\n    </tr>\n    <tr>\n      <th>3</th>\n      <td>4</td>\n      <td>Edgar Lindenau Aabye</td>\n      <td>M</td>\n      <td>34.0</td>\n      <td>NaN</td>\n      <td>NaN</td>\n      <td>Denmark/Sweden</td>\n      <td>DEN</td>\n      <td>1900 Summer</td>\n      <td>1900</td>\n      <td>Summer</td>\n      <td>Paris</td>\n      <td>Tug-Of-War</td>\n      <td>Tug-Of-War Men's Tug-Of-War</td>\n      <td>Gold</td>\n    </tr>\n    <tr>\n      <th>4</th>\n      <td>5</td>\n      <td>Christine Jacoba Aaftink</td>\n      <td>F</td>\n      <td>21.0</td>\n      <td>185.0</td>\n      <td>82.0</td>\n      <td>Netherlands</td>\n      <td>NED</td>\n      <td>1988 Winter</td>\n      <td>1988</td>\n      <td>Winter</td>\n      <td>Calgary</td>\n      <td>Speed Skating</td>\n      <td>Speed Skating Women's 500 metres</td>\n      <td>NaN</td>\n    </tr>\n  </tbody>\n</table>\n</div>"
          },
          "metadata": {}
        }
      ]
    },
    {
      "metadata": {
        "trusted": true
      },
      "cell_type": "code",
      "source": "new_data = data[data.Year == 1996]\nnew_data[new_data['Sex'] == 'M']['Age'].min() #the youngest male was 14 years old",
      "execution_count": 4,
      "outputs": [
        {
          "output_type": "execute_result",
          "execution_count": 4,
          "data": {
            "text/plain": "14.0"
          },
          "metadata": {}
        }
      ]
    },
    {
      "metadata": {
        "trusted": true
      },
      "cell_type": "code",
      "source": "new_data[new_data['Sex'] == 'F']['Age'].min() #the youngest female was 12 years old",
      "execution_count": 5,
      "outputs": [
        {
          "output_type": "execute_result",
          "execution_count": 5,
          "data": {
            "text/plain": "12.0"
          },
          "metadata": {}
        }
      ]
    },
    {
      "metadata": {
        "trusted": true
      },
      "cell_type": "code",
      "source": "round(float(data[(data['Sport']=='Gymnastics') & (data['Sex'] == 'M') & (data['Games'] == '2000 Summer')]['Name'].nunique())/\n      float(data[(data['Sex'] == 'M') & (data['Games'] == '2000 Summer')]['Name'].nunique())*100, 1)\n#процент мужчин-атлетов в 2000 году -  1.5",
      "execution_count": 6,
      "outputs": [
        {
          "output_type": "execute_result",
          "execution_count": 6,
          "data": {
            "text/plain": "1.5"
          },
          "metadata": {}
        }
      ]
    },
    {
      "metadata": {
        "trusted": true
      },
      "cell_type": "code",
      "source": "f_data = data[data.Year == 2000][data.Sex == 'F']\nnp.round(f_data[f_data['Sport'] == 'Basketball']['Height'].describe()[1], decimals = 1)  \n#средний рост баскетболистки Олимпийских игр 2000",
      "execution_count": 7,
      "outputs": [
        {
          "output_type": "execute_result",
          "execution_count": 7,
          "data": {
            "text/plain": "182.4"
          },
          "metadata": {}
        }
      ]
    },
    {
      "metadata": {
        "trusted": true
      },
      "cell_type": "code",
      "source": "np.round(f_data[f_data['Sport'] == 'Basketball']['Height'].describe()[2], decimals = 1)\n#среднеквадратическое отклонение",
      "execution_count": 8,
      "outputs": [
        {
          "output_type": "execute_result",
          "execution_count": 8,
          "data": {
            "text/plain": "9.1"
          },
          "metadata": {}
        }
      ]
    },
    {
      "metadata": {
        "trusted": true
      },
      "cell_type": "code",
      "source": "h_data= data[data['Year'] == 2002]\nh_data[h_data['Weight'] == h_data['Weight'].max()]['Sport']\n#ответ - бобслей",
      "execution_count": 9,
      "outputs": [
        {
          "output_type": "execute_result",
          "execution_count": 9,
          "data": {
            "text/plain": "99154    Bobsleigh\nName: Sport, dtype: object"
          },
          "metadata": {}
        }
      ]
    },
    {
      "metadata": {
        "trusted": true
      },
      "cell_type": "code",
      "source": "data[data['Name'] == 'Pawe Abratkiewicz']['Year'].nunique() #Спортсмен учавствовал в \n#соревнованиях в трёх разных годах",
      "execution_count": 10,
      "outputs": [
        {
          "output_type": "execute_result",
          "execution_count": 10,
          "data": {
            "text/plain": "3"
          },
          "metadata": {}
        }
      ]
    },
    {
      "metadata": {
        "trusted": true
      },
      "cell_type": "code",
      "source": "data[data['Team'] == 'Australia'][data['Year'] == 2000][data['Sport'] =='Tennis']['Medal'].value_counts()\n#2 медали",
      "execution_count": 11,
      "outputs": [
        {
          "output_type": "execute_result",
          "execution_count": 11,
          "data": {
            "text/plain": "Silver    2\nName: Medal, dtype: int64"
          },
          "metadata": {}
        }
      ]
    },
    {
      "metadata": {
        "trusted": true
      },
      "cell_type": "code",
      "source": "serbia = data[(data['Team'] == 'Serbia') & (data['Year'] == 2016)]['Medal'].count()\nswitz = data[(data['Team'] == 'Switzerland') & (data['Year'] == 2016)]['Medal'].count()\n\nif serbia >= switz:\n    print('Yes')\nelse:\n    print('No')",
      "execution_count": 13,
      "outputs": [
        {
          "output_type": "stream",
          "text": "Yes\n",
          "name": "stdout"
        }
      ]
    },
    {
      "metadata": {
        "trusted": true
      },
      "cell_type": "code",
      "source": "seas_data = data[data['Season'] == 'Summer']\nseas_data[seas_data['City'] == 'Lake Placid'] #летов в Lake Placid не проводились соревнования",
      "execution_count": 14,
      "outputs": [
        {
          "output_type": "execute_result",
          "execution_count": 14,
          "data": {
            "text/plain": "Empty DataFrame\nColumns: [ID, Name, Sex, Age, Height, Weight, Team, NOC, Games, Year, Season, City, Sport, Event, Medal]\nIndex: []",
            "text/html": "<div>\n<table border=\"1\" class=\"dataframe\">\n  <thead>\n    <tr style=\"text-align: right;\">\n      <th></th>\n      <th>ID</th>\n      <th>Name</th>\n      <th>Sex</th>\n      <th>Age</th>\n      <th>Height</th>\n      <th>Weight</th>\n      <th>Team</th>\n      <th>NOC</th>\n      <th>Games</th>\n      <th>Year</th>\n      <th>Season</th>\n      <th>City</th>\n      <th>Sport</th>\n      <th>Event</th>\n      <th>Medal</th>\n    </tr>\n  </thead>\n  <tbody>\n  </tbody>\n</table>\n</div>"
          },
          "metadata": {}
        }
      ]
    },
    {
      "metadata": {
        "trusted": true
      },
      "cell_type": "code",
      "source": "seaw_data = data[data['Season'] == 'Winter']\nseaw_data[seaw_data['City'] == 'Sankt Moritz'] #зимой в Sankt Moritz проводились соревнования (No,Yes)",
      "execution_count": 15,
      "outputs": [
        {
          "output_type": "execute_result",
          "execution_count": 15,
          "data": {
            "text/plain": "            ID                                      Name Sex   Age  Height  \\\n935        529           Karl Gustaf Emanuel Abrahamsson   M  31.0     NaN   \n1187       665                     Gilbert Achard-Picard   M  29.0     NaN   \n1439       802                    Tadeusz Ralf Adamowski   M  26.0   177.0   \n1454       810         Bridget Shirley Adams (-Bengough)   F  19.0     NaN   \n2707      1508                            Enrico Airoldi   M  24.0     NaN   \n2708      1509                              Remo Airoldi   M  26.0     NaN   \n5053      2876                  Theodor \"Theo\" Allenbach   M  23.0     NaN   \n5054      2876                  Theodor \"Theo\" Allenbach   M  23.0     NaN   \n5132      2921                           Fernando Alloni   M  22.0     NaN   \n5332      3022                    Pentti Johannes Alonen   M  22.0   172.0   \n5333      3022                    Pentti Johannes Alonen   M  22.0   172.0   \n5334      3022                    Pentti Johannes Alonen   M  22.0   172.0   \n5478      3091                        Alfred Altenburger   M  24.0     NaN   \n5514      3118         Jeannette Eleanor Altwegg (-Wirz)   F  17.0     NaN   \n5702      3215                              Silvio Alver   M  26.0     NaN   \n5703      3215                              Silvio Alver   M  26.0     NaN   \n5704      3215                              Silvio Alver   M  26.0     NaN   \n6591      3686                        Alf Steen Andersen   M  21.0     NaN   \n6673      3734                    Hjalmar Johan Andersen   M  24.0     NaN   \n6918      3882                       ke Gustav Andersson   M  29.0     NaN   \n6991      3923  Fritz Gustaf Adolf Andersson (-Gabeling)   M  24.0     NaN   \n6992      3923  Fritz Gustaf Adolf Andersson (-Gabeling)   M  24.0     NaN   \n6993      3923  Fritz Gustaf Adolf Andersson (-Gabeling)   M  24.0     NaN   \n6994      3923  Fritz Gustaf Adolf Andersson (-Gabeling)   M  24.0     NaN   \n7133      3987             Stig Gustaf Emanuel Andersson   M  33.0     NaN   \n7143      3995                     Karl Volger Andersson   M  32.0     NaN   \n7144      3995                     Karl Volger Andersson   M  32.0     NaN   \n7345      4110                  Giannin \"Gian\" Andreossi   M  25.0     NaN   \n7346      4111               Munrezzan \"Mezzi\" Andreossi   M  30.0     NaN   \n7852      4348                    Heinrich \"Heiri\" Angst   M  32.0     NaN   \n...        ...                                       ...  ..   ...     ...   \n263150  131673                              Ludwig Wrede   M  33.0     NaN   \n263151  131673                              Ludwig Wrede   M  33.0     NaN   \n263153  131675                    Gordon L. \"Gordy\" Wren   M  29.0     NaN   \n263154  131675                    Gordon L. \"Gordy\" Wren   M  29.0     NaN   \n263155  131675                    Gordon L. \"Gordy\" Wren   M  29.0     NaN   \n263555  131881                         Rudolf Wurmbrandt   M  25.0   193.0   \n263562  131886                   Rhona Wurtele (-Gillis)   F  26.0     NaN   \n263654  131934                         Cecil Irton Wylde   M  24.0     NaN   \n265212  132727                      Takeo Yazawa-Hoshina   M  21.0   169.0   \n266685  133411                          Osman Yce Erolu    M  18.0     NaN   \n266686  133411                          Osman Yce Erolu    M  18.0     NaN   \n266687  133411                          Osman Yce Erolu    M  18.0     NaN   \n267059  133608                            Oldich Zbrodsk   M  21.0     NaN   \n267067  133610                  Vladimr Olegovic Zbrodsk   M  24.0     NaN   \n267321  133744                            Frantiek Zajek   M  35.0     NaN   \n267322  133745                            Jaroslav Zajek   M  27.0     NaN   \n267323  133745                            Jaroslav Zajek   M  27.0     NaN   \n267324  133745                            Jaroslav Zajek   M  27.0     NaN   \n267622  133889                          Luciano Zampatti   M   NaN     NaN   \n268246  134210                       Kazimierz Zebrowski   M  36.0     NaN   \n268311  134249                                Hans Zeier   M  29.0     NaN   \n269613  134910                              Ernest Ziaja   M  28.0     NaN   \n270251  135193                                David Zogg   M  25.0     NaN   \n270252  135194                              Florian Zogg   M  27.0     NaN   \n270351  135237                       Gianantonio Zopegni   M  32.0     NaN   \n270713  135383                  Annelore Zckert (-Zrost)   F  22.0     NaN   \n270714  135383                  Annelore Zckert (-Zrost)   F  22.0     NaN   \n270863  135463                           Hans Zurbriggen   M  27.0     NaN   \n270881  135466                         Robert Zurbriggen   M  30.0     NaN   \n270882  135466                         Robert Zurbriggen   M  30.0     NaN   \n\n        Weight            Team  NOC        Games  Year  Season          City  \\\n935        NaN          Sweden  SWE  1928 Winter  1928  Winter  Sankt Moritz   \n1187       NaN        France-2  FRA  1948 Winter  1948  Winter  Sankt Moritz   \n1439      70.0          Poland  POL  1928 Winter  1928  Winter  Sankt Moritz   \n1454       NaN   Great Britain  GBR  1948 Winter  1948  Winter  Sankt Moritz   \n2707       NaN         Italy-2  ITA  1948 Winter  1948  Winter  Sankt Moritz   \n2708       NaN         Italy-2  ITA  1948 Winter  1948  Winter  Sankt Moritz   \n5053       NaN     Switzerland  SUI  1948 Winter  1948  Winter  Sankt Moritz   \n5054       NaN     Switzerland  SUI  1948 Winter  1948  Winter  Sankt Moritz   \n5132       NaN           Italy  ITA  1948 Winter  1948  Winter  Sankt Moritz   \n5332      65.0         Finland  FIN  1948 Winter  1948  Winter  Sankt Moritz   \n5333      65.0         Finland  FIN  1948 Winter  1948  Winter  Sankt Moritz   \n5334      65.0         Finland  FIN  1948 Winter  1948  Winter  Sankt Moritz   \n5478       NaN     Switzerland  SUI  1948 Winter  1948  Winter  Sankt Moritz   \n5514       NaN   Great Britain  GBR  1948 Winter  1948  Winter  Sankt Moritz   \n5702       NaN           Italy  ITA  1948 Winter  1948  Winter  Sankt Moritz   \n5703       NaN           Italy  ITA  1948 Winter  1948  Winter  Sankt Moritz   \n5704       NaN           Italy  ITA  1948 Winter  1948  Winter  Sankt Moritz   \n6591       NaN          Norway  NOR  1928 Winter  1928  Winter  Sankt Moritz   \n6673       NaN          Norway  NOR  1948 Winter  1948  Winter  Sankt Moritz   \n6918       NaN          Sweden  SWE  1948 Winter  1948  Winter  Sankt Moritz   \n6991       NaN          Sweden  SWE  1928 Winter  1928  Winter  Sankt Moritz   \n6992       NaN          Sweden  SWE  1928 Winter  1928  Winter  Sankt Moritz   \n6993       NaN          Sweden  SWE  1928 Winter  1928  Winter  Sankt Moritz   \n6994       NaN          Sweden  SWE  1928 Winter  1928  Winter  Sankt Moritz   \n7133       NaN          Sweden  SWE  1948 Winter  1948  Winter  Sankt Moritz   \n7143       NaN          Sweden  SWE  1928 Winter  1928  Winter  Sankt Moritz   \n7144       NaN          Sweden  SWE  1928 Winter  1928  Winter  Sankt Moritz   \n7345       NaN     Switzerland  SUI  1928 Winter  1928  Winter  Sankt Moritz   \n7346       NaN     Switzerland  SUI  1928 Winter  1928  Winter  Sankt Moritz   \n7852       NaN   Switzerland-1  SUI  1948 Winter  1948  Winter  Sankt Moritz   \n...        ...             ...  ...          ...   ...     ...           ...   \n263150     NaN         Austria  AUT  1928 Winter  1928  Winter  Sankt Moritz   \n263151     NaN       Austria-2  AUT  1928 Winter  1928  Winter  Sankt Moritz   \n263153     NaN   United States  USA  1948 Winter  1948  Winter  Sankt Moritz   \n263154     NaN   United States  USA  1948 Winter  1948  Winter  Sankt Moritz   \n263155     NaN   United States  USA  1948 Winter  1948  Winter  Sankt Moritz   \n263555     NaN         Austria  AUT  1948 Winter  1948  Winter  Sankt Moritz   \n263562     NaN          Canada  CAN  1948 Winter  1948  Winter  Sankt Moritz   \n263654     NaN   Great Britain  GBR  1928 Winter  1928  Winter  Sankt Moritz   \n265212    62.0           Japan  JPN  1928 Winter  1928  Winter  Sankt Moritz   \n266685     NaN          Turkey  TUR  1948 Winter  1948  Winter  Sankt Moritz   \n266686     NaN          Turkey  TUR  1948 Winter  1948  Winter  Sankt Moritz   \n266687     NaN          Turkey  TUR  1948 Winter  1948  Winter  Sankt Moritz   \n267059     NaN  Czechoslovakia  TCH  1948 Winter  1948  Winter  Sankt Moritz   \n267067     NaN  Czechoslovakia  TCH  1948 Winter  1948  Winter  Sankt Moritz   \n267321     NaN  Czechoslovakia  TCH  1948 Winter  1948  Winter  Sankt Moritz   \n267322     NaN  Czechoslovakia  TCH  1948 Winter  1948  Winter  Sankt Moritz   \n267323     NaN  Czechoslovakia  TCH  1948 Winter  1948  Winter  Sankt Moritz   \n267324     NaN  Czechoslovakia  TCH  1948 Winter  1948  Winter  Sankt Moritz   \n267622     NaN           Italy  ITA  1928 Winter  1928  Winter  Sankt Moritz   \n268246     NaN          Poland  POL  1928 Winter  1928  Winter  Sankt Moritz   \n268311     NaN     Switzerland  SUI  1928 Winter  1928  Winter  Sankt Moritz   \n269613     NaN          Poland  POL  1948 Winter  1948  Winter  Sankt Moritz   \n270251     NaN     Switzerland  SUI  1928 Winter  1928  Winter  Sankt Moritz   \n270252     NaN     Switzerland  SUI  1928 Winter  1928  Winter  Sankt Moritz   \n270351     NaN           Italy  ITA  1948 Winter  1948  Winter  Sankt Moritz   \n270713     NaN         Austria  AUT  1948 Winter  1948  Winter  Sankt Moritz   \n270714     NaN         Austria  AUT  1948 Winter  1948  Winter  Sankt Moritz   \n270863     NaN     Switzerland  SUI  1948 Winter  1948  Winter  Sankt Moritz   \n270881     NaN     Switzerland  SUI  1948 Winter  1948  Winter  Sankt Moritz   \n270882     NaN     Switzerland  SUI  1948 Winter  1948  Winter  Sankt Moritz   \n\n                       Sport  \\\n935               Ice Hockey   \n1187               Bobsleigh   \n1439              Ice Hockey   \n1454          Figure Skating   \n2707               Bobsleigh   \n2708               Bobsleigh   \n5053    Cross Country Skiing   \n5054         Nordic Combined   \n5132           Speed Skating   \n5332           Alpine Skiing   \n5333           Alpine Skiing   \n5334           Alpine Skiing   \n5478           Speed Skating   \n5514          Figure Skating   \n5702           Alpine Skiing   \n5703           Alpine Skiing   \n5704           Alpine Skiing   \n6591             Ski Jumping   \n6673           Speed Skating   \n6918              Ice Hockey   \n6991           Speed Skating   \n6992           Speed Skating   \n6993           Speed Skating   \n6994           Speed Skating   \n7133              Ice Hockey   \n7143    Cross Country Skiing   \n7144    Cross Country Skiing   \n7345              Ice Hockey   \n7346              Ice Hockey   \n7852               Bobsleigh   \n...                      ...   \n263150        Figure Skating   \n263151        Figure Skating   \n263153           Ski Jumping   \n263154  Cross Country Skiing   \n263155       Nordic Combined   \n263555            Ice Hockey   \n263562         Alpine Skiing   \n263654            Ice Hockey   \n265212  Cross Country Skiing   \n266685         Alpine Skiing   \n266686         Alpine Skiing   \n266687         Alpine Skiing   \n267059            Ice Hockey   \n267067            Ice Hockey   \n267321             Bobsleigh   \n267322  Cross Country Skiing   \n267323  Cross Country Skiing   \n267324  Cross Country Skiing   \n267622           Ski Jumping   \n268246            Ice Hockey   \n268311  Cross Country Skiing   \n269613            Ice Hockey   \n270251       Nordic Combined   \n270252  Cross Country Skiing   \n270351            Ice Hockey   \n270713         Alpine Skiing   \n270714         Alpine Skiing   \n270863           Ski Jumping   \n270881  Cross Country Skiing   \n270882  Cross Country Skiing   \n\n                                                    Event   Medal  \n935                           Ice Hockey Men's Ice Hockey  Silver  \n1187                                 Bobsleigh Men's Four     NaN  \n1439                          Ice Hockey Men's Ice Hockey     NaN  \n1454                       Figure Skating Women's Singles     NaN  \n2707                                 Bobsleigh Men's Four     NaN  \n2708                                 Bobsleigh Men's Four     NaN  \n5053             Cross Country Skiing Men's 18 kilometres     NaN  \n5054                     Nordic Combined Men's Individual     NaN  \n5132                     Speed Skating Men's 5,000 metres     NaN  \n5332                         Alpine Skiing Men's Downhill     NaN  \n5333                           Alpine Skiing Men's Slalom     NaN  \n5334                         Alpine Skiing Men's Combined     NaN  \n5478                     Speed Skating Men's 5,000 metres     NaN  \n5514                       Figure Skating Women's Singles  Bronze  \n5702                         Alpine Skiing Men's Downhill     NaN  \n5703                           Alpine Skiing Men's Slalom     NaN  \n5704                         Alpine Skiing Men's Combined     NaN  \n6591            Ski Jumping Men's Normal Hill, Individual    Gold  \n6673                    Speed Skating Men's 10,000 metres     NaN  \n6918                          Ice Hockey Men's Ice Hockey     NaN  \n6991                       Speed Skating Men's 500 metres     NaN  \n6992                     Speed Skating Men's 1,500 metres     NaN  \n6993                     Speed Skating Men's 5,000 metres     NaN  \n6994                    Speed Skating Men's 10,000 metres     NaN  \n7133                          Ice Hockey Men's Ice Hockey     NaN  \n7143             Cross Country Skiing Men's 18 kilometres     NaN  \n7144             Cross Country Skiing Men's 50 kilometres  Bronze  \n7345                          Ice Hockey Men's Ice Hockey  Bronze  \n7346                          Ice Hockey Men's Ice Hockey  Bronze  \n7852                                 Bobsleigh Men's Four     NaN  \n...                                                   ...     ...  \n263150                       Figure Skating Men's Singles     NaN  \n263151                         Figure Skating Mixed Pairs  Bronze  \n263153          Ski Jumping Men's Normal Hill, Individual     NaN  \n263154           Cross Country Skiing Men's 18 kilometres     NaN  \n263155                   Nordic Combined Men's Individual     NaN  \n263555                        Ice Hockey Men's Ice Hockey     NaN  \n263562                     Alpine Skiing Women's Downhill     NaN  \n263654                        Ice Hockey Men's Ice Hockey     NaN  \n265212           Cross Country Skiing Men's 18 kilometres     NaN  \n266685                       Alpine Skiing Men's Downhill     NaN  \n266686                         Alpine Skiing Men's Slalom     NaN  \n266687                       Alpine Skiing Men's Combined     NaN  \n267059                        Ice Hockey Men's Ice Hockey  Silver  \n267067                        Ice Hockey Men's Ice Hockey  Silver  \n267321                               Bobsleigh Men's Four     NaN  \n267322           Cross Country Skiing Men's 18 kilometres     NaN  \n267323           Cross Country Skiing Men's 50 kilometres     NaN  \n267324  Cross Country Skiing Men's 4 x 10 kilometres R...     NaN  \n267622          Ski Jumping Men's Normal Hill, Individual     NaN  \n268246                        Ice Hockey Men's Ice Hockey     NaN  \n268311           Cross Country Skiing Men's 50 kilometres     NaN  \n269613                        Ice Hockey Men's Ice Hockey     NaN  \n270251                   Nordic Combined Men's Individual     NaN  \n270252           Cross Country Skiing Men's 18 kilometres     NaN  \n270351                        Ice Hockey Men's Ice Hockey     NaN  \n270713                     Alpine Skiing Women's Downhill     NaN  \n270714                       Alpine Skiing Women's Slalom     NaN  \n270863          Ski Jumping Men's Normal Hill, Individual     NaN  \n270881           Cross Country Skiing Men's 18 kilometres     NaN  \n270882  Cross Country Skiing Men's 4 x 10 kilometres R...     NaN  \n\n[1657 rows x 15 columns]",
            "text/html": "<div>\n<table border=\"1\" class=\"dataframe\">\n  <thead>\n    <tr style=\"text-align: right;\">\n      <th></th>\n      <th>ID</th>\n      <th>Name</th>\n      <th>Sex</th>\n      <th>Age</th>\n      <th>Height</th>\n      <th>Weight</th>\n      <th>Team</th>\n      <th>NOC</th>\n      <th>Games</th>\n      <th>Year</th>\n      <th>Season</th>\n      <th>City</th>\n      <th>Sport</th>\n      <th>Event</th>\n      <th>Medal</th>\n    </tr>\n  </thead>\n  <tbody>\n    <tr>\n      <th>935</th>\n      <td>529</td>\n      <td>Karl Gustaf Emanuel Abrahamsson</td>\n      <td>M</td>\n      <td>31.0</td>\n      <td>NaN</td>\n      <td>NaN</td>\n      <td>Sweden</td>\n      <td>SWE</td>\n      <td>1928 Winter</td>\n      <td>1928</td>\n      <td>Winter</td>\n      <td>Sankt Moritz</td>\n      <td>Ice Hockey</td>\n      <td>Ice Hockey Men's Ice Hockey</td>\n      <td>Silver</td>\n    </tr>\n    <tr>\n      <th>1187</th>\n      <td>665</td>\n      <td>Gilbert Achard-Picard</td>\n      <td>M</td>\n      <td>29.0</td>\n      <td>NaN</td>\n      <td>NaN</td>\n      <td>France-2</td>\n      <td>FRA</td>\n      <td>1948 Winter</td>\n      <td>1948</td>\n      <td>Winter</td>\n      <td>Sankt Moritz</td>\n      <td>Bobsleigh</td>\n      <td>Bobsleigh Men's Four</td>\n      <td>NaN</td>\n    </tr>\n    <tr>\n      <th>1439</th>\n      <td>802</td>\n      <td>Tadeusz Ralf Adamowski</td>\n      <td>M</td>\n      <td>26.0</td>\n      <td>177.0</td>\n      <td>70.0</td>\n      <td>Poland</td>\n      <td>POL</td>\n      <td>1928 Winter</td>\n      <td>1928</td>\n      <td>Winter</td>\n      <td>Sankt Moritz</td>\n      <td>Ice Hockey</td>\n      <td>Ice Hockey Men's Ice Hockey</td>\n      <td>NaN</td>\n    </tr>\n    <tr>\n      <th>1454</th>\n      <td>810</td>\n      <td>Bridget Shirley Adams (-Bengough)</td>\n      <td>F</td>\n      <td>19.0</td>\n      <td>NaN</td>\n      <td>NaN</td>\n      <td>Great Britain</td>\n      <td>GBR</td>\n      <td>1948 Winter</td>\n      <td>1948</td>\n      <td>Winter</td>\n      <td>Sankt Moritz</td>\n      <td>Figure Skating</td>\n      <td>Figure Skating Women's Singles</td>\n      <td>NaN</td>\n    </tr>\n    <tr>\n      <th>2707</th>\n      <td>1508</td>\n      <td>Enrico Airoldi</td>\n      <td>M</td>\n      <td>24.0</td>\n      <td>NaN</td>\n      <td>NaN</td>\n      <td>Italy-2</td>\n      <td>ITA</td>\n      <td>1948 Winter</td>\n      <td>1948</td>\n      <td>Winter</td>\n      <td>Sankt Moritz</td>\n      <td>Bobsleigh</td>\n      <td>Bobsleigh Men's Four</td>\n      <td>NaN</td>\n    </tr>\n    <tr>\n      <th>2708</th>\n      <td>1509</td>\n      <td>Remo Airoldi</td>\n      <td>M</td>\n      <td>26.0</td>\n      <td>NaN</td>\n      <td>NaN</td>\n      <td>Italy-2</td>\n      <td>ITA</td>\n      <td>1948 Winter</td>\n      <td>1948</td>\n      <td>Winter</td>\n      <td>Sankt Moritz</td>\n      <td>Bobsleigh</td>\n      <td>Bobsleigh Men's Four</td>\n      <td>NaN</td>\n    </tr>\n    <tr>\n      <th>5053</th>\n      <td>2876</td>\n      <td>Theodor \"Theo\" Allenbach</td>\n      <td>M</td>\n      <td>23.0</td>\n      <td>NaN</td>\n      <td>NaN</td>\n      <td>Switzerland</td>\n      <td>SUI</td>\n      <td>1948 Winter</td>\n      <td>1948</td>\n      <td>Winter</td>\n      <td>Sankt Moritz</td>\n      <td>Cross Country Skiing</td>\n      <td>Cross Country Skiing Men's 18 kilometres</td>\n      <td>NaN</td>\n    </tr>\n    <tr>\n      <th>5054</th>\n      <td>2876</td>\n      <td>Theodor \"Theo\" Allenbach</td>\n      <td>M</td>\n      <td>23.0</td>\n      <td>NaN</td>\n      <td>NaN</td>\n      <td>Switzerland</td>\n      <td>SUI</td>\n      <td>1948 Winter</td>\n      <td>1948</td>\n      <td>Winter</td>\n      <td>Sankt Moritz</td>\n      <td>Nordic Combined</td>\n      <td>Nordic Combined Men's Individual</td>\n      <td>NaN</td>\n    </tr>\n    <tr>\n      <th>5132</th>\n      <td>2921</td>\n      <td>Fernando Alloni</td>\n      <td>M</td>\n      <td>22.0</td>\n      <td>NaN</td>\n      <td>NaN</td>\n      <td>Italy</td>\n      <td>ITA</td>\n      <td>1948 Winter</td>\n      <td>1948</td>\n      <td>Winter</td>\n      <td>Sankt Moritz</td>\n      <td>Speed Skating</td>\n      <td>Speed Skating Men's 5,000 metres</td>\n      <td>NaN</td>\n    </tr>\n    <tr>\n      <th>5332</th>\n      <td>3022</td>\n      <td>Pentti Johannes Alonen</td>\n      <td>M</td>\n      <td>22.0</td>\n      <td>172.0</td>\n      <td>65.0</td>\n      <td>Finland</td>\n      <td>FIN</td>\n      <td>1948 Winter</td>\n      <td>1948</td>\n      <td>Winter</td>\n      <td>Sankt Moritz</td>\n      <td>Alpine Skiing</td>\n      <td>Alpine Skiing Men's Downhill</td>\n      <td>NaN</td>\n    </tr>\n    <tr>\n      <th>5333</th>\n      <td>3022</td>\n      <td>Pentti Johannes Alonen</td>\n      <td>M</td>\n      <td>22.0</td>\n      <td>172.0</td>\n      <td>65.0</td>\n      <td>Finland</td>\n      <td>FIN</td>\n      <td>1948 Winter</td>\n      <td>1948</td>\n      <td>Winter</td>\n      <td>Sankt Moritz</td>\n      <td>Alpine Skiing</td>\n      <td>Alpine Skiing Men's Slalom</td>\n      <td>NaN</td>\n    </tr>\n    <tr>\n      <th>5334</th>\n      <td>3022</td>\n      <td>Pentti Johannes Alonen</td>\n      <td>M</td>\n      <td>22.0</td>\n      <td>172.0</td>\n      <td>65.0</td>\n      <td>Finland</td>\n      <td>FIN</td>\n      <td>1948 Winter</td>\n      <td>1948</td>\n      <td>Winter</td>\n      <td>Sankt Moritz</td>\n      <td>Alpine Skiing</td>\n      <td>Alpine Skiing Men's Combined</td>\n      <td>NaN</td>\n    </tr>\n    <tr>\n      <th>5478</th>\n      <td>3091</td>\n      <td>Alfred Altenburger</td>\n      <td>M</td>\n      <td>24.0</td>\n      <td>NaN</td>\n      <td>NaN</td>\n      <td>Switzerland</td>\n      <td>SUI</td>\n      <td>1948 Winter</td>\n      <td>1948</td>\n      <td>Winter</td>\n      <td>Sankt Moritz</td>\n      <td>Speed Skating</td>\n      <td>Speed Skating Men's 5,000 metres</td>\n      <td>NaN</td>\n    </tr>\n    <tr>\n      <th>5514</th>\n      <td>3118</td>\n      <td>Jeannette Eleanor Altwegg (-Wirz)</td>\n      <td>F</td>\n      <td>17.0</td>\n      <td>NaN</td>\n      <td>NaN</td>\n      <td>Great Britain</td>\n      <td>GBR</td>\n      <td>1948 Winter</td>\n      <td>1948</td>\n      <td>Winter</td>\n      <td>Sankt Moritz</td>\n      <td>Figure Skating</td>\n      <td>Figure Skating Women's Singles</td>\n      <td>Bronze</td>\n    </tr>\n    <tr>\n      <th>5702</th>\n      <td>3215</td>\n      <td>Silvio Alver</td>\n      <td>M</td>\n      <td>26.0</td>\n      <td>NaN</td>\n      <td>NaN</td>\n      <td>Italy</td>\n      <td>ITA</td>\n      <td>1948 Winter</td>\n      <td>1948</td>\n      <td>Winter</td>\n      <td>Sankt Moritz</td>\n      <td>Alpine Skiing</td>\n      <td>Alpine Skiing Men's Downhill</td>\n      <td>NaN</td>\n    </tr>\n    <tr>\n      <th>5703</th>\n      <td>3215</td>\n      <td>Silvio Alver</td>\n      <td>M</td>\n      <td>26.0</td>\n      <td>NaN</td>\n      <td>NaN</td>\n      <td>Italy</td>\n      <td>ITA</td>\n      <td>1948 Winter</td>\n      <td>1948</td>\n      <td>Winter</td>\n      <td>Sankt Moritz</td>\n      <td>Alpine Skiing</td>\n      <td>Alpine Skiing Men's Slalom</td>\n      <td>NaN</td>\n    </tr>\n    <tr>\n      <th>5704</th>\n      <td>3215</td>\n      <td>Silvio Alver</td>\n      <td>M</td>\n      <td>26.0</td>\n      <td>NaN</td>\n      <td>NaN</td>\n      <td>Italy</td>\n      <td>ITA</td>\n      <td>1948 Winter</td>\n      <td>1948</td>\n      <td>Winter</td>\n      <td>Sankt Moritz</td>\n      <td>Alpine Skiing</td>\n      <td>Alpine Skiing Men's Combined</td>\n      <td>NaN</td>\n    </tr>\n    <tr>\n      <th>6591</th>\n      <td>3686</td>\n      <td>Alf Steen Andersen</td>\n      <td>M</td>\n      <td>21.0</td>\n      <td>NaN</td>\n      <td>NaN</td>\n      <td>Norway</td>\n      <td>NOR</td>\n      <td>1928 Winter</td>\n      <td>1928</td>\n      <td>Winter</td>\n      <td>Sankt Moritz</td>\n      <td>Ski Jumping</td>\n      <td>Ski Jumping Men's Normal Hill, Individual</td>\n      <td>Gold</td>\n    </tr>\n    <tr>\n      <th>6673</th>\n      <td>3734</td>\n      <td>Hjalmar Johan Andersen</td>\n      <td>M</td>\n      <td>24.0</td>\n      <td>NaN</td>\n      <td>NaN</td>\n      <td>Norway</td>\n      <td>NOR</td>\n      <td>1948 Winter</td>\n      <td>1948</td>\n      <td>Winter</td>\n      <td>Sankt Moritz</td>\n      <td>Speed Skating</td>\n      <td>Speed Skating Men's 10,000 metres</td>\n      <td>NaN</td>\n    </tr>\n    <tr>\n      <th>6918</th>\n      <td>3882</td>\n      <td>ke Gustav Andersson</td>\n      <td>M</td>\n      <td>29.0</td>\n      <td>NaN</td>\n      <td>NaN</td>\n      <td>Sweden</td>\n      <td>SWE</td>\n      <td>1948 Winter</td>\n      <td>1948</td>\n      <td>Winter</td>\n      <td>Sankt Moritz</td>\n      <td>Ice Hockey</td>\n      <td>Ice Hockey Men's Ice Hockey</td>\n      <td>NaN</td>\n    </tr>\n    <tr>\n      <th>6991</th>\n      <td>3923</td>\n      <td>Fritz Gustaf Adolf Andersson (-Gabeling)</td>\n      <td>M</td>\n      <td>24.0</td>\n      <td>NaN</td>\n      <td>NaN</td>\n      <td>Sweden</td>\n      <td>SWE</td>\n      <td>1928 Winter</td>\n      <td>1928</td>\n      <td>Winter</td>\n      <td>Sankt Moritz</td>\n      <td>Speed Skating</td>\n      <td>Speed Skating Men's 500 metres</td>\n      <td>NaN</td>\n    </tr>\n    <tr>\n      <th>6992</th>\n      <td>3923</td>\n      <td>Fritz Gustaf Adolf Andersson (-Gabeling)</td>\n      <td>M</td>\n      <td>24.0</td>\n      <td>NaN</td>\n      <td>NaN</td>\n      <td>Sweden</td>\n      <td>SWE</td>\n      <td>1928 Winter</td>\n      <td>1928</td>\n      <td>Winter</td>\n      <td>Sankt Moritz</td>\n      <td>Speed Skating</td>\n      <td>Speed Skating Men's 1,500 metres</td>\n      <td>NaN</td>\n    </tr>\n    <tr>\n      <th>6993</th>\n      <td>3923</td>\n      <td>Fritz Gustaf Adolf Andersson (-Gabeling)</td>\n      <td>M</td>\n      <td>24.0</td>\n      <td>NaN</td>\n      <td>NaN</td>\n      <td>Sweden</td>\n      <td>SWE</td>\n      <td>1928 Winter</td>\n      <td>1928</td>\n      <td>Winter</td>\n      <td>Sankt Moritz</td>\n      <td>Speed Skating</td>\n      <td>Speed Skating Men's 5,000 metres</td>\n      <td>NaN</td>\n    </tr>\n    <tr>\n      <th>6994</th>\n      <td>3923</td>\n      <td>Fritz Gustaf Adolf Andersson (-Gabeling)</td>\n      <td>M</td>\n      <td>24.0</td>\n      <td>NaN</td>\n      <td>NaN</td>\n      <td>Sweden</td>\n      <td>SWE</td>\n      <td>1928 Winter</td>\n      <td>1928</td>\n      <td>Winter</td>\n      <td>Sankt Moritz</td>\n      <td>Speed Skating</td>\n      <td>Speed Skating Men's 10,000 metres</td>\n      <td>NaN</td>\n    </tr>\n    <tr>\n      <th>7133</th>\n      <td>3987</td>\n      <td>Stig Gustaf Emanuel Andersson</td>\n      <td>M</td>\n      <td>33.0</td>\n      <td>NaN</td>\n      <td>NaN</td>\n      <td>Sweden</td>\n      <td>SWE</td>\n      <td>1948 Winter</td>\n      <td>1948</td>\n      <td>Winter</td>\n      <td>Sankt Moritz</td>\n      <td>Ice Hockey</td>\n      <td>Ice Hockey Men's Ice Hockey</td>\n      <td>NaN</td>\n    </tr>\n    <tr>\n      <th>7143</th>\n      <td>3995</td>\n      <td>Karl Volger Andersson</td>\n      <td>M</td>\n      <td>32.0</td>\n      <td>NaN</td>\n      <td>NaN</td>\n      <td>Sweden</td>\n      <td>SWE</td>\n      <td>1928 Winter</td>\n      <td>1928</td>\n      <td>Winter</td>\n      <td>Sankt Moritz</td>\n      <td>Cross Country Skiing</td>\n      <td>Cross Country Skiing Men's 18 kilometres</td>\n      <td>NaN</td>\n    </tr>\n    <tr>\n      <th>7144</th>\n      <td>3995</td>\n      <td>Karl Volger Andersson</td>\n      <td>M</td>\n      <td>32.0</td>\n      <td>NaN</td>\n      <td>NaN</td>\n      <td>Sweden</td>\n      <td>SWE</td>\n      <td>1928 Winter</td>\n      <td>1928</td>\n      <td>Winter</td>\n      <td>Sankt Moritz</td>\n      <td>Cross Country Skiing</td>\n      <td>Cross Country Skiing Men's 50 kilometres</td>\n      <td>Bronze</td>\n    </tr>\n    <tr>\n      <th>7345</th>\n      <td>4110</td>\n      <td>Giannin \"Gian\" Andreossi</td>\n      <td>M</td>\n      <td>25.0</td>\n      <td>NaN</td>\n      <td>NaN</td>\n      <td>Switzerland</td>\n      <td>SUI</td>\n      <td>1928 Winter</td>\n      <td>1928</td>\n      <td>Winter</td>\n      <td>Sankt Moritz</td>\n      <td>Ice Hockey</td>\n      <td>Ice Hockey Men's Ice Hockey</td>\n      <td>Bronze</td>\n    </tr>\n    <tr>\n      <th>7346</th>\n      <td>4111</td>\n      <td>Munrezzan \"Mezzi\" Andreossi</td>\n      <td>M</td>\n      <td>30.0</td>\n      <td>NaN</td>\n      <td>NaN</td>\n      <td>Switzerland</td>\n      <td>SUI</td>\n      <td>1928 Winter</td>\n      <td>1928</td>\n      <td>Winter</td>\n      <td>Sankt Moritz</td>\n      <td>Ice Hockey</td>\n      <td>Ice Hockey Men's Ice Hockey</td>\n      <td>Bronze</td>\n    </tr>\n    <tr>\n      <th>7852</th>\n      <td>4348</td>\n      <td>Heinrich \"Heiri\" Angst</td>\n      <td>M</td>\n      <td>32.0</td>\n      <td>NaN</td>\n      <td>NaN</td>\n      <td>Switzerland-1</td>\n      <td>SUI</td>\n      <td>1948 Winter</td>\n      <td>1948</td>\n      <td>Winter</td>\n      <td>Sankt Moritz</td>\n      <td>Bobsleigh</td>\n      <td>Bobsleigh Men's Four</td>\n      <td>NaN</td>\n    </tr>\n    <tr>\n      <th>...</th>\n      <td>...</td>\n      <td>...</td>\n      <td>...</td>\n      <td>...</td>\n      <td>...</td>\n      <td>...</td>\n      <td>...</td>\n      <td>...</td>\n      <td>...</td>\n      <td>...</td>\n      <td>...</td>\n      <td>...</td>\n      <td>...</td>\n      <td>...</td>\n      <td>...</td>\n    </tr>\n    <tr>\n      <th>263150</th>\n      <td>131673</td>\n      <td>Ludwig Wrede</td>\n      <td>M</td>\n      <td>33.0</td>\n      <td>NaN</td>\n      <td>NaN</td>\n      <td>Austria</td>\n      <td>AUT</td>\n      <td>1928 Winter</td>\n      <td>1928</td>\n      <td>Winter</td>\n      <td>Sankt Moritz</td>\n      <td>Figure Skating</td>\n      <td>Figure Skating Men's Singles</td>\n      <td>NaN</td>\n    </tr>\n    <tr>\n      <th>263151</th>\n      <td>131673</td>\n      <td>Ludwig Wrede</td>\n      <td>M</td>\n      <td>33.0</td>\n      <td>NaN</td>\n      <td>NaN</td>\n      <td>Austria-2</td>\n      <td>AUT</td>\n      <td>1928 Winter</td>\n      <td>1928</td>\n      <td>Winter</td>\n      <td>Sankt Moritz</td>\n      <td>Figure Skating</td>\n      <td>Figure Skating Mixed Pairs</td>\n      <td>Bronze</td>\n    </tr>\n    <tr>\n      <th>263153</th>\n      <td>131675</td>\n      <td>Gordon L. \"Gordy\" Wren</td>\n      <td>M</td>\n      <td>29.0</td>\n      <td>NaN</td>\n      <td>NaN</td>\n      <td>United States</td>\n      <td>USA</td>\n      <td>1948 Winter</td>\n      <td>1948</td>\n      <td>Winter</td>\n      <td>Sankt Moritz</td>\n      <td>Ski Jumping</td>\n      <td>Ski Jumping Men's Normal Hill, Individual</td>\n      <td>NaN</td>\n    </tr>\n    <tr>\n      <th>263154</th>\n      <td>131675</td>\n      <td>Gordon L. \"Gordy\" Wren</td>\n      <td>M</td>\n      <td>29.0</td>\n      <td>NaN</td>\n      <td>NaN</td>\n      <td>United States</td>\n      <td>USA</td>\n      <td>1948 Winter</td>\n      <td>1948</td>\n      <td>Winter</td>\n      <td>Sankt Moritz</td>\n      <td>Cross Country Skiing</td>\n      <td>Cross Country Skiing Men's 18 kilometres</td>\n      <td>NaN</td>\n    </tr>\n    <tr>\n      <th>263155</th>\n      <td>131675</td>\n      <td>Gordon L. \"Gordy\" Wren</td>\n      <td>M</td>\n      <td>29.0</td>\n      <td>NaN</td>\n      <td>NaN</td>\n      <td>United States</td>\n      <td>USA</td>\n      <td>1948 Winter</td>\n      <td>1948</td>\n      <td>Winter</td>\n      <td>Sankt Moritz</td>\n      <td>Nordic Combined</td>\n      <td>Nordic Combined Men's Individual</td>\n      <td>NaN</td>\n    </tr>\n    <tr>\n      <th>263555</th>\n      <td>131881</td>\n      <td>Rudolf Wurmbrandt</td>\n      <td>M</td>\n      <td>25.0</td>\n      <td>193.0</td>\n      <td>NaN</td>\n      <td>Austria</td>\n      <td>AUT</td>\n      <td>1948 Winter</td>\n      <td>1948</td>\n      <td>Winter</td>\n      <td>Sankt Moritz</td>\n      <td>Ice Hockey</td>\n      <td>Ice Hockey Men's Ice Hockey</td>\n      <td>NaN</td>\n    </tr>\n    <tr>\n      <th>263562</th>\n      <td>131886</td>\n      <td>Rhona Wurtele (-Gillis)</td>\n      <td>F</td>\n      <td>26.0</td>\n      <td>NaN</td>\n      <td>NaN</td>\n      <td>Canada</td>\n      <td>CAN</td>\n      <td>1948 Winter</td>\n      <td>1948</td>\n      <td>Winter</td>\n      <td>Sankt Moritz</td>\n      <td>Alpine Skiing</td>\n      <td>Alpine Skiing Women's Downhill</td>\n      <td>NaN</td>\n    </tr>\n    <tr>\n      <th>263654</th>\n      <td>131934</td>\n      <td>Cecil Irton Wylde</td>\n      <td>M</td>\n      <td>24.0</td>\n      <td>NaN</td>\n      <td>NaN</td>\n      <td>Great Britain</td>\n      <td>GBR</td>\n      <td>1928 Winter</td>\n      <td>1928</td>\n      <td>Winter</td>\n      <td>Sankt Moritz</td>\n      <td>Ice Hockey</td>\n      <td>Ice Hockey Men's Ice Hockey</td>\n      <td>NaN</td>\n    </tr>\n    <tr>\n      <th>265212</th>\n      <td>132727</td>\n      <td>Takeo Yazawa-Hoshina</td>\n      <td>M</td>\n      <td>21.0</td>\n      <td>169.0</td>\n      <td>62.0</td>\n      <td>Japan</td>\n      <td>JPN</td>\n      <td>1928 Winter</td>\n      <td>1928</td>\n      <td>Winter</td>\n      <td>Sankt Moritz</td>\n      <td>Cross Country Skiing</td>\n      <td>Cross Country Skiing Men's 18 kilometres</td>\n      <td>NaN</td>\n    </tr>\n    <tr>\n      <th>266685</th>\n      <td>133411</td>\n      <td>Osman Yce Erolu</td>\n      <td>M</td>\n      <td>18.0</td>\n      <td>NaN</td>\n      <td>NaN</td>\n      <td>Turkey</td>\n      <td>TUR</td>\n      <td>1948 Winter</td>\n      <td>1948</td>\n      <td>Winter</td>\n      <td>Sankt Moritz</td>\n      <td>Alpine Skiing</td>\n      <td>Alpine Skiing Men's Downhill</td>\n      <td>NaN</td>\n    </tr>\n    <tr>\n      <th>266686</th>\n      <td>133411</td>\n      <td>Osman Yce Erolu</td>\n      <td>M</td>\n      <td>18.0</td>\n      <td>NaN</td>\n      <td>NaN</td>\n      <td>Turkey</td>\n      <td>TUR</td>\n      <td>1948 Winter</td>\n      <td>1948</td>\n      <td>Winter</td>\n      <td>Sankt Moritz</td>\n      <td>Alpine Skiing</td>\n      <td>Alpine Skiing Men's Slalom</td>\n      <td>NaN</td>\n    </tr>\n    <tr>\n      <th>266687</th>\n      <td>133411</td>\n      <td>Osman Yce Erolu</td>\n      <td>M</td>\n      <td>18.0</td>\n      <td>NaN</td>\n      <td>NaN</td>\n      <td>Turkey</td>\n      <td>TUR</td>\n      <td>1948 Winter</td>\n      <td>1948</td>\n      <td>Winter</td>\n      <td>Sankt Moritz</td>\n      <td>Alpine Skiing</td>\n      <td>Alpine Skiing Men's Combined</td>\n      <td>NaN</td>\n    </tr>\n    <tr>\n      <th>267059</th>\n      <td>133608</td>\n      <td>Oldich Zbrodsk</td>\n      <td>M</td>\n      <td>21.0</td>\n      <td>NaN</td>\n      <td>NaN</td>\n      <td>Czechoslovakia</td>\n      <td>TCH</td>\n      <td>1948 Winter</td>\n      <td>1948</td>\n      <td>Winter</td>\n      <td>Sankt Moritz</td>\n      <td>Ice Hockey</td>\n      <td>Ice Hockey Men's Ice Hockey</td>\n      <td>Silver</td>\n    </tr>\n    <tr>\n      <th>267067</th>\n      <td>133610</td>\n      <td>Vladimr Olegovic Zbrodsk</td>\n      <td>M</td>\n      <td>24.0</td>\n      <td>NaN</td>\n      <td>NaN</td>\n      <td>Czechoslovakia</td>\n      <td>TCH</td>\n      <td>1948 Winter</td>\n      <td>1948</td>\n      <td>Winter</td>\n      <td>Sankt Moritz</td>\n      <td>Ice Hockey</td>\n      <td>Ice Hockey Men's Ice Hockey</td>\n      <td>Silver</td>\n    </tr>\n    <tr>\n      <th>267321</th>\n      <td>133744</td>\n      <td>Frantiek Zajek</td>\n      <td>M</td>\n      <td>35.0</td>\n      <td>NaN</td>\n      <td>NaN</td>\n      <td>Czechoslovakia</td>\n      <td>TCH</td>\n      <td>1948 Winter</td>\n      <td>1948</td>\n      <td>Winter</td>\n      <td>Sankt Moritz</td>\n      <td>Bobsleigh</td>\n      <td>Bobsleigh Men's Four</td>\n      <td>NaN</td>\n    </tr>\n    <tr>\n      <th>267322</th>\n      <td>133745</td>\n      <td>Jaroslav Zajek</td>\n      <td>M</td>\n      <td>27.0</td>\n      <td>NaN</td>\n      <td>NaN</td>\n      <td>Czechoslovakia</td>\n      <td>TCH</td>\n      <td>1948 Winter</td>\n      <td>1948</td>\n      <td>Winter</td>\n      <td>Sankt Moritz</td>\n      <td>Cross Country Skiing</td>\n      <td>Cross Country Skiing Men's 18 kilometres</td>\n      <td>NaN</td>\n    </tr>\n    <tr>\n      <th>267323</th>\n      <td>133745</td>\n      <td>Jaroslav Zajek</td>\n      <td>M</td>\n      <td>27.0</td>\n      <td>NaN</td>\n      <td>NaN</td>\n      <td>Czechoslovakia</td>\n      <td>TCH</td>\n      <td>1948 Winter</td>\n      <td>1948</td>\n      <td>Winter</td>\n      <td>Sankt Moritz</td>\n      <td>Cross Country Skiing</td>\n      <td>Cross Country Skiing Men's 50 kilometres</td>\n      <td>NaN</td>\n    </tr>\n    <tr>\n      <th>267324</th>\n      <td>133745</td>\n      <td>Jaroslav Zajek</td>\n      <td>M</td>\n      <td>27.0</td>\n      <td>NaN</td>\n      <td>NaN</td>\n      <td>Czechoslovakia</td>\n      <td>TCH</td>\n      <td>1948 Winter</td>\n      <td>1948</td>\n      <td>Winter</td>\n      <td>Sankt Moritz</td>\n      <td>Cross Country Skiing</td>\n      <td>Cross Country Skiing Men's 4 x 10 kilometres R...</td>\n      <td>NaN</td>\n    </tr>\n    <tr>\n      <th>267622</th>\n      <td>133889</td>\n      <td>Luciano Zampatti</td>\n      <td>M</td>\n      <td>NaN</td>\n      <td>NaN</td>\n      <td>NaN</td>\n      <td>Italy</td>\n      <td>ITA</td>\n      <td>1928 Winter</td>\n      <td>1928</td>\n      <td>Winter</td>\n      <td>Sankt Moritz</td>\n      <td>Ski Jumping</td>\n      <td>Ski Jumping Men's Normal Hill, Individual</td>\n      <td>NaN</td>\n    </tr>\n    <tr>\n      <th>268246</th>\n      <td>134210</td>\n      <td>Kazimierz Zebrowski</td>\n      <td>M</td>\n      <td>36.0</td>\n      <td>NaN</td>\n      <td>NaN</td>\n      <td>Poland</td>\n      <td>POL</td>\n      <td>1928 Winter</td>\n      <td>1928</td>\n      <td>Winter</td>\n      <td>Sankt Moritz</td>\n      <td>Ice Hockey</td>\n      <td>Ice Hockey Men's Ice Hockey</td>\n      <td>NaN</td>\n    </tr>\n    <tr>\n      <th>268311</th>\n      <td>134249</td>\n      <td>Hans Zeier</td>\n      <td>M</td>\n      <td>29.0</td>\n      <td>NaN</td>\n      <td>NaN</td>\n      <td>Switzerland</td>\n      <td>SUI</td>\n      <td>1928 Winter</td>\n      <td>1928</td>\n      <td>Winter</td>\n      <td>Sankt Moritz</td>\n      <td>Cross Country Skiing</td>\n      <td>Cross Country Skiing Men's 50 kilometres</td>\n      <td>NaN</td>\n    </tr>\n    <tr>\n      <th>269613</th>\n      <td>134910</td>\n      <td>Ernest Ziaja</td>\n      <td>M</td>\n      <td>28.0</td>\n      <td>NaN</td>\n      <td>NaN</td>\n      <td>Poland</td>\n      <td>POL</td>\n      <td>1948 Winter</td>\n      <td>1948</td>\n      <td>Winter</td>\n      <td>Sankt Moritz</td>\n      <td>Ice Hockey</td>\n      <td>Ice Hockey Men's Ice Hockey</td>\n      <td>NaN</td>\n    </tr>\n    <tr>\n      <th>270251</th>\n      <td>135193</td>\n      <td>David Zogg</td>\n      <td>M</td>\n      <td>25.0</td>\n      <td>NaN</td>\n      <td>NaN</td>\n      <td>Switzerland</td>\n      <td>SUI</td>\n      <td>1928 Winter</td>\n      <td>1928</td>\n      <td>Winter</td>\n      <td>Sankt Moritz</td>\n      <td>Nordic Combined</td>\n      <td>Nordic Combined Men's Individual</td>\n      <td>NaN</td>\n    </tr>\n    <tr>\n      <th>270252</th>\n      <td>135194</td>\n      <td>Florian Zogg</td>\n      <td>M</td>\n      <td>27.0</td>\n      <td>NaN</td>\n      <td>NaN</td>\n      <td>Switzerland</td>\n      <td>SUI</td>\n      <td>1928 Winter</td>\n      <td>1928</td>\n      <td>Winter</td>\n      <td>Sankt Moritz</td>\n      <td>Cross Country Skiing</td>\n      <td>Cross Country Skiing Men's 18 kilometres</td>\n      <td>NaN</td>\n    </tr>\n    <tr>\n      <th>270351</th>\n      <td>135237</td>\n      <td>Gianantonio Zopegni</td>\n      <td>M</td>\n      <td>32.0</td>\n      <td>NaN</td>\n      <td>NaN</td>\n      <td>Italy</td>\n      <td>ITA</td>\n      <td>1948 Winter</td>\n      <td>1948</td>\n      <td>Winter</td>\n      <td>Sankt Moritz</td>\n      <td>Ice Hockey</td>\n      <td>Ice Hockey Men's Ice Hockey</td>\n      <td>NaN</td>\n    </tr>\n    <tr>\n      <th>270713</th>\n      <td>135383</td>\n      <td>Annelore Zckert (-Zrost)</td>\n      <td>F</td>\n      <td>22.0</td>\n      <td>NaN</td>\n      <td>NaN</td>\n      <td>Austria</td>\n      <td>AUT</td>\n      <td>1948 Winter</td>\n      <td>1948</td>\n      <td>Winter</td>\n      <td>Sankt Moritz</td>\n      <td>Alpine Skiing</td>\n      <td>Alpine Skiing Women's Downhill</td>\n      <td>NaN</td>\n    </tr>\n    <tr>\n      <th>270714</th>\n      <td>135383</td>\n      <td>Annelore Zckert (-Zrost)</td>\n      <td>F</td>\n      <td>22.0</td>\n      <td>NaN</td>\n      <td>NaN</td>\n      <td>Austria</td>\n      <td>AUT</td>\n      <td>1948 Winter</td>\n      <td>1948</td>\n      <td>Winter</td>\n      <td>Sankt Moritz</td>\n      <td>Alpine Skiing</td>\n      <td>Alpine Skiing Women's Slalom</td>\n      <td>NaN</td>\n    </tr>\n    <tr>\n      <th>270863</th>\n      <td>135463</td>\n      <td>Hans Zurbriggen</td>\n      <td>M</td>\n      <td>27.0</td>\n      <td>NaN</td>\n      <td>NaN</td>\n      <td>Switzerland</td>\n      <td>SUI</td>\n      <td>1948 Winter</td>\n      <td>1948</td>\n      <td>Winter</td>\n      <td>Sankt Moritz</td>\n      <td>Ski Jumping</td>\n      <td>Ski Jumping Men's Normal Hill, Individual</td>\n      <td>NaN</td>\n    </tr>\n    <tr>\n      <th>270881</th>\n      <td>135466</td>\n      <td>Robert Zurbriggen</td>\n      <td>M</td>\n      <td>30.0</td>\n      <td>NaN</td>\n      <td>NaN</td>\n      <td>Switzerland</td>\n      <td>SUI</td>\n      <td>1948 Winter</td>\n      <td>1948</td>\n      <td>Winter</td>\n      <td>Sankt Moritz</td>\n      <td>Cross Country Skiing</td>\n      <td>Cross Country Skiing Men's 18 kilometres</td>\n      <td>NaN</td>\n    </tr>\n    <tr>\n      <th>270882</th>\n      <td>135466</td>\n      <td>Robert Zurbriggen</td>\n      <td>M</td>\n      <td>30.0</td>\n      <td>NaN</td>\n      <td>NaN</td>\n      <td>Switzerland</td>\n      <td>SUI</td>\n      <td>1948 Winter</td>\n      <td>1948</td>\n      <td>Winter</td>\n      <td>Sankt Moritz</td>\n      <td>Cross Country Skiing</td>\n      <td>Cross Country Skiing Men's 4 x 10 kilometres R...</td>\n      <td>NaN</td>\n    </tr>\n  </tbody>\n</table>\n<p>1657 rows × 15 columns</p>\n</div>"
          },
          "metadata": {}
        }
      ]
    },
    {
      "metadata": {
        "trusted": true
      },
      "cell_type": "code",
      "source": "data[data['Year'] == 2016]['Sport'].nunique() - data[data['Year'] == 1995]['Sport'].nunique() #34 unique sports in 2016",
      "execution_count": 17,
      "outputs": [
        {
          "output_type": "execute_result",
          "execution_count": 17,
          "data": {
            "text/plain": "34"
          },
          "metadata": {}
        }
      ]
    },
    {
      "metadata": {
        "trusted": true
      },
      "cell_type": "code",
      "source": "data[(data['Year']==2014) & (data['Age']>=45) & (data['Age']<=55)]['Name'].nunique(), data[(data['Year']==2014)  & (data['Age']>=35) & (data['Age']<=45)]['Name'].nunique()",
      "execution_count": 19,
      "outputs": [
        {
          "output_type": "execute_result",
          "execution_count": 19,
          "data": {
            "text/plain": "(5, 151)"
          },
          "metadata": {}
        }
      ]
    },
    {
      "metadata": {
        "trusted": true
      },
      "cell_type": "code",
      "source": "data[(data['Year']==2014) & (data['Age']>=25) & (data['Age']<35)]['Name'].nunique(), data[(data['Year']==2014)& (data['Age']>=15) &(data['Age']<25)]['Name'].nunique(), data[(data['Year']==2014) & (data['Age']>=35) & (data['Age']<45)]['Name'].nunique()\n#ответ - [45-55] and [25-35) correspondingly",
      "execution_count": 20,
      "outputs": [
        {
          "output_type": "execute_result",
          "execution_count": 20,
          "data": {
            "text/plain": "(1397, 1193, 150)"
          },
          "metadata": {}
        }
      ]
    }
  ],
  "metadata": {
    "kernelspec": {
      "name": "python3",
      "display_name": "Python 3",
      "language": "python"
    },
    "language_info": {
      "mimetype": "text/x-python",
      "nbconvert_exporter": "python",
      "name": "python",
      "pygments_lexer": "ipython3",
      "version": "3.5.4",
      "file_extension": ".py",
      "codemirror_mode": {
        "version": 3,
        "name": "ipython"
      }
    }
  },
  "nbformat": 4,
  "nbformat_minor": 4
}
